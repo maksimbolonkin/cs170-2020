{
 "cells": [
  {
   "cell_type": "code",
   "execution_count": 1,
   "metadata": {},
   "outputs": [],
   "source": [
    "import torch\n",
    "import numpy as np\n",
    "import pandas as pd\n",
    "import torch.nn as nn\n",
    "import torch.optim as optim"
   ]
  },
  {
   "cell_type": "markdown",
   "metadata": {},
   "source": [
    "### Feedforward Neurla Networks\n",
    "\n",
    "Task is to predict default payment for bank customers from previous payments data."
   ]
  },
  {
   "cell_type": "code",
   "execution_count": 2,
   "metadata": {},
   "outputs": [
    {
     "name": "stdout",
     "output_type": "stream",
     "text": [
      "           X1  X2  X3  X4  X5  X6  X7  X8      X9     X10  ...    X12    X13  \\\n",
      "0       20000  24   2   2  -1  -1  -2  -2    3913    3102  ...      0      0   \n",
      "1      120000  26  -1   2   0   0   0   2    2682    1725  ...   3272   3455   \n",
      "2       90000  34   0   0   0   0   0   0   29239   14027  ...  14331  14948   \n",
      "3       50000  37   0   0   0   0   0   0   46990   48233  ...  28314  28959   \n",
      "4       50000  57  -1   0  -1   0   0   0    8617    5670  ...  20940  19146   \n",
      "...       ...  ..  ..  ..  ..  ..  ..  ..     ...     ...  ...    ...    ...   \n",
      "29995  220000  39   0   0   0   0   0   0  188948  192815  ...  88004  31237   \n",
      "29996  150000  43  -1  -1  -1  -1   0   0    1683    1828  ...   8979   5190   \n",
      "29997   30000  37   4   3   2  -1   0   0    3565    3356  ...  20878  20582   \n",
      "29998   80000  41   1  -1   0   0   0  -1   -1645   78379  ...  52774  11855   \n",
      "29999   50000  46   0   0   0   0   0   0   47929   48905  ...  36535  32428   \n",
      "\n",
      "         X14    X15    X16    X17   X18    X19   X20  Y  \n",
      "0          0      0    689      0     0      0     0  1  \n",
      "1       3261      0   1000   1000  1000      0  2000  1  \n",
      "2      15549   1518   1500   1000  1000   1000  5000  0  \n",
      "3      29547   2000   2019   1200  1100   1069  1000  0  \n",
      "4      19131   2000  36681  10000  9000    689   679  0  \n",
      "...      ...    ...    ...    ...   ...    ...   ... ..  \n",
      "29995  15980   8500  20000   5003  3047   5000  1000  0  \n",
      "29996      0   1837   3526   8998   129      0     0  0  \n",
      "29997  19357      0      0  22000  4200   2000  3100  1  \n",
      "29998  48944  85900   3409   1178  1926  52964  1804  1  \n",
      "29999  15313   2078   1800   1430  1000   1000  1000  1  \n",
      "\n",
      "[30000 rows x 21 columns]\n"
     ]
    }
   ],
   "source": [
    "# reading the data and checking the content\n",
    "df = pd.read_csv('data_files/default_data.csv')\n",
    "print(df)\n",
    "# print(df.keys())\n",
    "# print(len(df))"
   ]
  },
  {
   "cell_type": "code",
   "execution_count": 3,
   "metadata": {},
   "outputs": [
    {
     "name": "stdout",
     "output_type": "stream",
     "text": [
      "(30000, 13)\n"
     ]
    }
   ],
   "source": [
    "# loading the data values and target values\n",
    "X = df[[f'X{i}' for i in range(1, 21)]].to_numpy()\n",
    "Y = df['Y'].to_numpy()\n",
    "\n",
    "# selecting only numerical values\n",
    "X = X[:, [0]+list(range(8,20))]\n",
    "\n",
    "print(X.shape)"
   ]
  },
  {
   "cell_type": "code",
   "execution_count": 4,
   "metadata": {},
   "outputs": [],
   "source": [
    "# creating the class\n",
    "class Net(nn.Module):\n",
    "    def __init__(self, in_channels):\n",
    "        super(Net, self).__init__()\n",
    "        self.net = nn.Sequential(nn.Linear(in_channels, 15, bias=False), nn.Sigmoid(),\n",
    "                                 nn.Linear(15, 10, bias=False), nn.Sigmoid(),\n",
    "                                nn.Linear(10, 1, bias=False), nn.Sigmoid())\n",
    "        \n",
    "    def forward(self, x):\n",
    "        return self.net(x)"
   ]
  },
  {
   "cell_type": "code",
   "execution_count": 5,
   "metadata": {},
   "outputs": [],
   "source": [
    "# train-test-val split (non-random, don't do that in practice)\n",
    "x_train = torch.from_numpy(X[:25000, :]).float()\n",
    "y_train = torch.from_numpy(Y[:25000]).float()\n",
    "x_val = torch.from_numpy(X[25000:27500, :]).float()\n",
    "y_val = torch.from_numpy(Y[25000:27500]).float()\n",
    "x_test = torch.from_numpy(X[27500:, :]).float()\n",
    "y_test = torch.from_numpy(Y[27500:]).float()\n",
    "\n",
    "# creating weights for each item in training set\n",
    "w = np.ones(y_train.shape)\n",
    "w[y_train==1] = 4\n",
    "\n",
    "\n",
    "# normalizing with regards to training set\n",
    "mean = x_train.mean(axis=0)\n",
    "std = x_train.std(axis=0)\n",
    "\n",
    "x_train = (x_train-mean)/std\n",
    "x_val = (x_val-mean)/std\n",
    "x_test = (x_test-mean)/std"
   ]
  },
  {
   "cell_type": "code",
   "execution_count": 8,
   "metadata": {},
   "outputs": [],
   "source": [
    "# creating an instance of the the network, optimizer and loss function\n",
    "net = Net(X.shape[1])\n",
    "optimizer = optim.SGD(net.parameters(), lr=0.1)\n",
    "criterion = nn.BCELoss(weight=torch.from_numpy(w).float())"
   ]
  },
  {
   "cell_type": "code",
   "execution_count": 10,
   "metadata": {},
   "outputs": [
    {
     "name": "stdout",
     "output_type": "stream",
     "text": [
      "19, train: 1.153071641921997\n",
      "39, train: 1.1529490947723389\n",
      "59, train: 1.1528042554855347\n",
      "79, train: 1.1526973247528076\n",
      "99, train: 1.1525814533233643\n",
      "119, train: 1.152453899383545\n",
      "139, train: 1.1523257493972778\n",
      "159, train: 1.1521905660629272\n",
      "179, train: 1.1520626544952393\n",
      "199, train: 1.1519299745559692\n",
      "219, train: 1.1517935991287231\n",
      "239, train: 1.1516484022140503\n",
      "259, train: 1.151504635810852\n",
      "279, train: 1.151350975036621\n",
      "299, train: 1.1512001752853394\n",
      "319, train: 1.1510385274887085\n",
      "339, train: 1.1508764028549194\n",
      "359, train: 1.1506919860839844\n",
      "379, train: 1.1505144834518433\n",
      "399, train: 1.1503276824951172\n",
      "419, train: 1.1501309871673584\n",
      "439, train: 1.1499258279800415\n",
      "459, train: 1.1497129201889038\n",
      "479, train: 1.1494824886322021\n",
      "499, train: 1.1492420434951782\n",
      "519, train: 1.1489940881729126\n",
      "539, train: 1.1487419605255127\n",
      "559, train: 1.148455262184143\n",
      "579, train: 1.148171305656433\n",
      "599, train: 1.147865891456604\n",
      "619, train: 1.1475459337234497\n",
      "639, train: 1.1472079753875732\n",
      "659, train: 1.1468538045883179\n",
      "679, train: 1.146481990814209\n",
      "699, train: 1.1460834741592407\n",
      "719, train: 1.1456680297851562\n",
      "739, train: 1.1452319622039795\n",
      "759, train: 1.1447644233703613\n",
      "779, train: 1.1442762613296509\n",
      "799, train: 1.1437592506408691\n",
      "819, train: 1.1432156562805176\n",
      "839, train: 1.1426489353179932\n",
      "859, train: 1.1420555114746094\n",
      "879, train: 1.1414194107055664\n",
      "899, train: 1.1407623291015625\n",
      "919, train: 1.1400665044784546\n",
      "939, train: 1.139333724975586\n",
      "959, train: 1.138571858406067\n",
      "979, train: 1.1377735137939453\n",
      "999, train: 1.1369422674179077\n"
     ]
    }
   ],
   "source": [
    "# training\n",
    "for epoch in range(1000):\n",
    "    net.train()\n",
    "    optimizer.zero_grad()\n",
    "    y = net(x_train)\n",
    "    loss = criterion(y, y_train)\n",
    "    loss.backward()\n",
    "    optimizer.step()\n",
    "    \n",
    "    if (epoch+1)%20 == 0:\n",
    "        print('{}, train: {}'.format(epoch, loss))"
   ]
  },
  {
   "cell_type": "code",
   "execution_count": 11,
   "metadata": {},
   "outputs": [
    {
     "name": "stdout",
     "output_type": "stream",
     "text": [
      "tensor(0.5625, grad_fn=<MaxBackward1>)\n",
      "tensor(0.3124)\n"
     ]
    }
   ],
   "source": [
    "y_pred = net(x_val)\n",
    "print(y_pred.max())\n",
    "y_pred = (y_pred>=0.5).int()\n",
    "print((y_pred[:,0]==y_val).float().mean())"
   ]
  },
  {
   "cell_type": "code",
   "execution_count": 13,
   "metadata": {},
   "outputs": [
    {
     "name": "stdout",
     "output_type": "stream",
     "text": [
      "tensor([[1],\n",
      "        [0],\n",
      "        [1],\n",
      "        ...,\n",
      "        [1],\n",
      "        [0],\n",
      "        [1]], dtype=torch.int32)\n"
     ]
    }
   ],
   "source": [
    "print(y_pred)"
   ]
  },
  {
   "cell_type": "markdown",
   "metadata": {},
   "source": [
    "### Reccurent Neural Networks\n",
    "\n",
    "Task is to train a reccurent network thattakes 10 numbers as input and learns to sum them up."
   ]
  },
  {
   "cell_type": "code",
   "execution_count": 14,
   "metadata": {},
   "outputs": [
    {
     "name": "stdout",
     "output_type": "stream",
     "text": [
      "torch.Size([10, 10000, 1])\n"
     ]
    }
   ],
   "source": [
    "# generating the data for the task\n",
    "# dimension is number of steps x number of samples x size of each sample\n",
    "x_train = np.random.random((10, 10000, 1))\n",
    "x_test = np.random.random((10, 1000, 1))\n",
    "y_train = x_train.sum(axis=0)\n",
    "y_test =  x_test.sum(axis=0)\n",
    "\n",
    "\n",
    "x_train = torch.from_numpy(x_train).float()\n",
    "x_test = torch.from_numpy(x_test).float()\n",
    "y_train = torch.from_numpy(y_train).float()\n",
    "y_test = torch.from_numpy(y_test).float()\n",
    "print(x_train.shape)"
   ]
  },
  {
   "cell_type": "code",
   "execution_count": 15,
   "metadata": {},
   "outputs": [],
   "source": [
    "# hidden size\n",
    "hs = 1\n",
    "# creating the class\n",
    "class RNet(nn.Module):\n",
    "    def __init__(self):\n",
    "        super(RNet, self).__init__()\n",
    "        self.rnet = nn.RNNCell(1, hs, bias=False)\n",
    "        self.linear = nn.Linear(hs, 1, bias=False)\n",
    "        \n",
    "    def forward(self, x, hx):\n",
    "        for i in range(x.shape[0]):\n",
    "            hx = self.rnet(x[i,:,:], hx)\n",
    "        return self.linear(hx)"
   ]
  },
  {
   "cell_type": "code",
   "execution_count": 16,
   "metadata": {},
   "outputs": [],
   "source": [
    "# create network, loss function, and optimizer\n",
    "net = RNet()\n",
    "crit = nn.MSELoss()\n",
    "opt = optim.SGD(net.parameters(), lr=0.1)"
   ]
  },
  {
   "cell_type": "code",
   "execution_count": 17,
   "metadata": {},
   "outputs": [
    {
     "name": "stdout",
     "output_type": "stream",
     "text": [
      "0, train: 26.214290618896484\n",
      "1, train: 20.53204345703125\n",
      "2, train: 14.965350151062012\n",
      "3, train: 10.063345909118652\n",
      "4, train: 6.800719738006592\n",
      "5, train: 4.667972087860107\n",
      "6, train: 3.286534309387207\n",
      "7, train: 2.395528554916382\n",
      "8, train: 1.8221065998077393\n",
      "9, train: 1.4535235166549683\n",
      "10, train: 1.2167654037475586\n",
      "11, train: 1.064727544784546\n",
      "12, train: 0.9670862555503845\n",
      "13, train: 0.9043477773666382\n",
      "14, train: 0.8639906048774719\n",
      "15, train: 0.8379794955253601\n",
      "16, train: 0.8211590051651001\n",
      "17, train: 0.810222864151001\n",
      "18, train: 0.803051233291626\n",
      "19, train: 0.7982861995697021\n",
      "20, train: 0.7950572371482849\n",
      "21, train: 0.7928069829940796\n",
      "22, train: 0.7911778092384338\n",
      "23, train: 0.7899419069290161\n",
      "24, train: 0.7889518141746521\n",
      "25, train: 0.7881144285202026\n",
      "26, train: 0.787369430065155\n",
      "27, train: 0.7866785526275635\n",
      "28, train: 0.7860168814659119\n",
      "29, train: 0.7853686809539795\n",
      "30, train: 0.7847237586975098\n",
      "31, train: 0.7840753197669983\n",
      "32, train: 0.7834190726280212\n",
      "33, train: 0.782752513885498\n",
      "34, train: 0.7820730209350586\n",
      "35, train: 0.7813800573348999\n",
      "36, train: 0.7806721925735474\n",
      "37, train: 0.7799489498138428\n",
      "38, train: 0.7792097926139832\n",
      "39, train: 0.7784541249275208\n",
      "40, train: 0.7776818871498108\n",
      "41, train: 0.776892900466919\n",
      "42, train: 0.7760865688323975\n",
      "43, train: 0.775263249874115\n",
      "44, train: 0.7744221091270447\n",
      "45, train: 0.7735638618469238\n",
      "46, train: 0.7726879119873047\n",
      "47, train: 0.7717946767807007\n",
      "48, train: 0.7708839774131775\n",
      "49, train: 0.769956111907959\n",
      "50, train: 0.7690113186836243\n",
      "51, train: 0.7680498957633972\n",
      "52, train: 0.767072319984436\n",
      "53, train: 0.7660788893699646\n",
      "54, train: 0.7650704383850098\n",
      "55, train: 0.7640473246574402\n",
      "56, train: 0.7630106806755066\n",
      "57, train: 0.7619611620903015\n",
      "58, train: 0.7609003186225891\n",
      "59, train: 0.7598286867141724\n",
      "60, train: 0.7587478160858154\n",
      "61, train: 0.7576592564582825\n",
      "62, train: 0.7565644383430481\n",
      "63, train: 0.7554647922515869\n",
      "64, train: 0.7543626427650452\n",
      "65, train: 0.7532594203948975\n",
      "66, train: 0.7521575689315796\n",
      "67, train: 0.7510586380958557\n",
      "68, train: 0.7499649524688721\n",
      "69, train: 0.7488789558410645\n",
      "70, train: 0.7478026151657104\n",
      "71, train: 0.7467380166053772\n",
      "72, train: 0.74568772315979\n",
      "73, train: 0.744653582572937\n",
      "74, train: 0.7436378002166748\n",
      "75, train: 0.7426422238349915\n",
      "76, train: 0.7416688799858093\n",
      "77, train: 0.7407194972038269\n",
      "78, train: 0.7397955060005188\n",
      "79, train: 0.7388981580734253\n",
      "80, train: 0.7380285859107971\n",
      "81, train: 0.7371881604194641\n",
      "82, train: 0.736376941204071\n",
      "83, train: 0.7355961203575134\n",
      "84, train: 0.7348455190658569\n",
      "85, train: 0.734125554561615\n",
      "86, train: 0.7334358096122742\n",
      "87, train: 0.7327761054039001\n",
      "88, train: 0.7321463227272034\n",
      "89, train: 0.7315452694892883\n",
      "90, train: 0.7309728264808655\n",
      "91, train: 0.730427622795105\n",
      "92, train: 0.7299089431762695\n",
      "93, train: 0.7294158935546875\n",
      "94, train: 0.7289470434188843\n",
      "95, train: 0.728501558303833\n",
      "96, train: 0.7280780076980591\n",
      "97, train: 0.7276753783226013\n",
      "98, train: 0.7272927165031433\n",
      "99, train: 0.7269282937049866\n"
     ]
    }
   ],
   "source": [
    "# we initialize hidden state with zeros\n",
    "hx = torch.from_numpy(np.zeros((10000, hs))).float()\n",
    "for epoch in range(100):\n",
    "    opt.zero_grad()\n",
    "    y = net(x_train, hx)\n",
    "    loss = crit(y, y_train)\n",
    "    loss.backward()\n",
    "    opt.step()\n",
    "    \n",
    "    print('{}, train: {}'.format(epoch, loss))"
   ]
  },
  {
   "cell_type": "code",
   "execution_count": 18,
   "metadata": {},
   "outputs": [],
   "source": [
    "# evaluating the network on test data\n",
    "net.eval()\n",
    "hx = torch.from_numpy(np.zeros((1000, hs))).float()\n",
    "y = net(x_test, hx)"
   ]
  },
  {
   "cell_type": "code",
   "execution_count": 20,
   "metadata": {},
   "outputs": [
    {
     "name": "stdout",
     "output_type": "stream",
     "text": [
      "tensor(0.6886, grad_fn=<MeanBackward0>)\n"
     ]
    }
   ],
   "source": [
    "# mean absolute deviation\n",
    "print(torch.abs(y-y_test).mean())"
   ]
  },
  {
   "cell_type": "code",
   "execution_count": 23,
   "metadata": {},
   "outputs": [
    {
     "name": "stdout",
     "output_type": "stream",
     "text": [
      "tensor([[5.2834],\n",
      "        [5.1546],\n",
      "        [4.9574],\n",
      "        [4.4551],\n",
      "        [4.3911],\n",
      "        [5.2528],\n",
      "        [5.1719],\n",
      "        [4.5916],\n",
      "        [5.2778],\n",
      "        [5.2181],\n",
      "        [4.6965],\n",
      "        [5.3059],\n",
      "        [4.1606],\n",
      "        [5.2856],\n",
      "        [4.4413],\n",
      "        [5.2344],\n",
      "        [5.2940],\n",
      "        [5.0760],\n",
      "        [5.0128],\n",
      "        [5.1262],\n",
      "        [5.1579],\n",
      "        [4.8062],\n",
      "        [5.2462],\n",
      "        [5.2390],\n",
      "        [4.2705]])\n",
      "tensor([[5.7479],\n",
      "        [5.1381],\n",
      "        [4.7849],\n",
      "        [6.2266],\n",
      "        [5.9499],\n",
      "        [4.9472],\n",
      "        [5.4423],\n",
      "        [5.0486],\n",
      "        [7.1109],\n",
      "        [5.1140],\n",
      "        [3.7384],\n",
      "        [5.2142],\n",
      "        [4.6679],\n",
      "        [5.2516],\n",
      "        [3.8386],\n",
      "        [4.8381],\n",
      "        [6.9030],\n",
      "        [4.8176],\n",
      "        [5.5630],\n",
      "        [5.0437],\n",
      "        [4.7630],\n",
      "        [5.4596],\n",
      "        [3.7366],\n",
      "        [4.8218],\n",
      "        [4.2650]])\n"
     ]
    }
   ],
   "source": [
    "print(y[:25].data)\n",
    "print(y_test[:25].data)"
   ]
  },
  {
   "cell_type": "code",
   "execution_count": null,
   "metadata": {},
   "outputs": [],
   "source": []
  }
 ],
 "metadata": {
  "kernelspec": {
   "display_name": "Python 3",
   "language": "python",
   "name": "python3"
  },
  "language_info": {
   "codemirror_mode": {
    "name": "ipython",
    "version": 3
   },
   "file_extension": ".py",
   "mimetype": "text/x-python",
   "name": "python",
   "nbconvert_exporter": "python",
   "pygments_lexer": "ipython3",
   "version": "3.7.6"
  }
 },
 "nbformat": 4,
 "nbformat_minor": 4
}
