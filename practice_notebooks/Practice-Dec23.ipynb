{
 "cells": [
  {
   "cell_type": "code",
   "execution_count": 1,
   "metadata": {},
   "outputs": [],
   "source": [
    "import torch\n",
    "import numpy as np\n",
    "import pandas as pd\n",
    "import torch.nn as nn\n",
    "import torch.optim as optim"
   ]
  },
  {
   "cell_type": "code",
   "execution_count": 2,
   "metadata": {},
   "outputs": [
    {
     "name": "stdout",
     "output_type": "stream",
     "text": [
      "           X1  X2  X3  X4  X5  X6  X7  X8      X9     X10  ...    X12    X13  \\\n",
      "0       20000  24   2   2  -1  -1  -2  -2    3913    3102  ...      0      0   \n",
      "1      120000  26  -1   2   0   0   0   2    2682    1725  ...   3272   3455   \n",
      "2       90000  34   0   0   0   0   0   0   29239   14027  ...  14331  14948   \n",
      "3       50000  37   0   0   0   0   0   0   46990   48233  ...  28314  28959   \n",
      "4       50000  57  -1   0  -1   0   0   0    8617    5670  ...  20940  19146   \n",
      "...       ...  ..  ..  ..  ..  ..  ..  ..     ...     ...  ...    ...    ...   \n",
      "29995  220000  39   0   0   0   0   0   0  188948  192815  ...  88004  31237   \n",
      "29996  150000  43  -1  -1  -1  -1   0   0    1683    1828  ...   8979   5190   \n",
      "29997   30000  37   4   3   2  -1   0   0    3565    3356  ...  20878  20582   \n",
      "29998   80000  41   1  -1   0   0   0  -1   -1645   78379  ...  52774  11855   \n",
      "29999   50000  46   0   0   0   0   0   0   47929   48905  ...  36535  32428   \n",
      "\n",
      "         X14    X15    X16    X17   X18    X19   X20  Y  \n",
      "0          0      0    689      0     0      0     0  1  \n",
      "1       3261      0   1000   1000  1000      0  2000  1  \n",
      "2      15549   1518   1500   1000  1000   1000  5000  0  \n",
      "3      29547   2000   2019   1200  1100   1069  1000  0  \n",
      "4      19131   2000  36681  10000  9000    689   679  0  \n",
      "...      ...    ...    ...    ...   ...    ...   ... ..  \n",
      "29995  15980   8500  20000   5003  3047   5000  1000  0  \n",
      "29996      0   1837   3526   8998   129      0     0  0  \n",
      "29997  19357      0      0  22000  4200   2000  3100  1  \n",
      "29998  48944  85900   3409   1178  1926  52964  1804  1  \n",
      "29999  15313   2078   1800   1430  1000   1000  1000  1  \n",
      "\n",
      "[30000 rows x 21 columns]\n",
      "Index(['X1', 'X2', 'X3', 'X4', 'X5', 'X6', 'X7', 'X8', 'X9', 'X10', 'X11',\n",
      "       'X12', 'X13', 'X14', 'X15', 'X16', 'X17', 'X18', 'X19', 'X20', 'Y'],\n",
      "      dtype='object')\n",
      "30000\n"
     ]
    }
   ],
   "source": [
    "# reading the data and checking the content\n",
    "df = pd.read_csv('data_files/default_data.csv')\n",
    "print(df)\n",
    "print(df.keys())\n",
    "print(len(df))"
   ]
  },
  {
   "cell_type": "code",
   "execution_count": 3,
   "metadata": {},
   "outputs": [],
   "source": [
    "# loading the data values and target values\n",
    "X = df[[f'X{i}' for i in range(1, 21)]].to_numpy()\n",
    "Y = df['Y'].to_numpy()"
   ]
  },
  {
   "cell_type": "code",
   "execution_count": 4,
   "metadata": {},
   "outputs": [],
   "source": [
    "# creating the class\n",
    "class Net(nn.Module):\n",
    "    def __init__(self):\n",
    "        super(Net, self).__init__()\n",
    "        self.net = nn.Sequential(nn.Linear(20, 10, bias=False), nn.Sigmoid(),\n",
    "                                 nn.Linear(10, 1, bias=False), nn.Sigmoid())\n",
    "        \n",
    "    def forward(self, x):\n",
    "        return self.net(x)"
   ]
  },
  {
   "cell_type": "code",
   "execution_count": 5,
   "metadata": {},
   "outputs": [],
   "source": [
    "# train-test-val split (non-random, don't do that in practice)\n",
    "x_train = torch.from_numpy(X[:25000, :]).float()\n",
    "y_train = torch.from_numpy(Y[:25000]).float()\n",
    "x_val = torch.from_numpy(X[25000:27500, :]).float()\n",
    "y_val = torch.from_numpy(Y[25000:27500]).float()\n",
    "x_test = torch.from_numpy(X[27500:, :]).float()\n",
    "y_test = torch.from_numpy(Y[27500:]).float()"
   ]
  },
  {
   "cell_type": "code",
   "execution_count": 6,
   "metadata": {},
   "outputs": [],
   "source": [
    "# creating an instance of the the network, optimizer and loss function\n",
    "net = Net()\n",
    "optimizer = optim.SGD(net.parameters(), lr=0.1)\n",
    "criterion = nn.BCELoss()"
   ]
  },
  {
   "cell_type": "code",
   "execution_count": 7,
   "metadata": {},
   "outputs": [
    {
     "name": "stderr",
     "output_type": "stream",
     "text": [
      "/Users/mbolonkin/opt/anaconda3/lib/python3.7/site-packages/torch/nn/modules/loss.py:498: UserWarning: Using a target size (torch.Size([25000])) that is different to the input size (torch.Size([25000, 1])) is deprecated. Please ensure they have the same size.\n",
      "  return F.binary_cross_entropy(input, target, weight=self.weight, reduction=self.reduction)\n"
     ]
    },
    {
     "name": "stdout",
     "output_type": "stream",
     "text": [
      "0, 0.6676478981971741\n",
      "1, 0.6334870457649231\n",
      "2, 0.6032590270042419\n",
      "3, 0.5661739706993103\n",
      "4, 0.5535538792610168\n",
      "5, 0.5490840077400208\n",
      "6, 0.5407330989837646\n",
      "7, 0.5392913818359375\n",
      "8, 0.5367408394813538\n",
      "9, 0.5355471968650818\n",
      "10, 0.5335676074028015\n",
      "11, 0.5343053340911865\n",
      "12, 0.5324618816375732\n",
      "13, 0.5317046642303467\n",
      "14, 0.5303352475166321\n",
      "15, 0.5299214124679565\n",
      "16, 0.5300446152687073\n",
      "17, 0.5293494462966919\n",
      "18, 0.5291922092437744\n",
      "19, 0.5291098952293396\n",
      "20, 0.5289309620857239\n",
      "21, 0.5288582444190979\n",
      "22, 0.5285044312477112\n",
      "23, 0.5284377932548523\n",
      "24, 0.5288742780685425\n",
      "25, 0.5285923480987549\n",
      "26, 0.5285981297492981\n",
      "27, 0.528698205947876\n",
      "28, 0.5282694697380066\n",
      "29, 0.5281371474266052\n",
      "30, 0.5282219648361206\n",
      "31, 0.528232991695404\n",
      "32, 0.5282230973243713\n",
      "33, 0.5316749215126038\n",
      "34, 0.5316006541252136\n",
      "35, 0.5313166379928589\n",
      "36, 0.5312237739562988\n",
      "37, 0.5307661890983582\n",
      "38, 0.5318647623062134\n",
      "39, 0.5316625237464905\n",
      "40, 0.5317936539649963\n",
      "41, 0.531665027141571\n",
      "42, 0.5317766666412354\n",
      "43, 0.5315932631492615\n",
      "44, 0.5317181348800659\n",
      "45, 0.5315842628479004\n",
      "46, 0.5314852595329285\n",
      "47, 0.5316413044929504\n",
      "48, 0.5315988659858704\n",
      "49, 0.5314944386482239\n",
      "50, 0.5315274000167847\n",
      "51, 0.5316612720489502\n",
      "52, 0.53165602684021\n",
      "53, 0.5316013097763062\n",
      "54, 0.5314786434173584\n",
      "55, 0.5314586162567139\n",
      "56, 0.5314715504646301\n",
      "57, 0.5314617156982422\n",
      "58, 0.5317022204399109\n",
      "59, 0.531609296798706\n",
      "60, 0.5315936207771301\n",
      "61, 0.5315892696380615\n",
      "62, 0.5316560864448547\n",
      "63, 0.5315783619880676\n",
      "64, 0.5315649509429932\n",
      "65, 0.5315608382225037\n",
      "66, 0.5315607190132141\n",
      "67, 0.5315491557121277\n",
      "68, 0.5315163731575012\n",
      "69, 0.5315128564834595\n",
      "70, 0.5315106511116028\n",
      "71, 0.5314574241638184\n",
      "72, 0.5314470529556274\n",
      "73, 0.5314459800720215\n",
      "74, 0.5314198136329651\n",
      "75, 0.5314170122146606\n",
      "76, 0.531416654586792\n",
      "77, 0.5314101576805115\n",
      "78, 0.5314078330993652\n",
      "79, 0.5314068794250488\n",
      "80, 0.5315183401107788\n",
      "81, 0.5315181612968445\n",
      "82, 0.5315172076225281\n",
      "83, 0.5314279794692993\n",
      "84, 0.53142911195755\n",
      "85, 0.5314213037490845\n",
      "86, 0.5314206480979919\n",
      "87, 0.5314193367958069\n",
      "88, 0.5314244627952576\n",
      "89, 0.5314238667488098\n",
      "90, 0.5313912630081177\n",
      "91, 0.5313916206359863\n",
      "92, 0.5313912630081177\n",
      "93, 0.5313911437988281\n",
      "94, 0.5313908457756042\n",
      "95, 0.531390368938446\n",
      "96, 0.5313902497291565\n",
      "97, 0.5313901305198669\n",
      "98, 0.5313904881477356\n",
      "99, 0.531390368938446\n"
     ]
    }
   ],
   "source": [
    "# training\n",
    "for epoch in range(100):\n",
    "    optimizer.zero_grad()\n",
    "    y = net(x_train)\n",
    "    loss = criterion(y, y_train)\n",
    "    loss.backward()\n",
    "    optimizer.step()\n",
    "    print('{}, {}'.format(epoch, loss))"
   ]
  },
  {
   "cell_type": "code",
   "execution_count": 8,
   "metadata": {},
   "outputs": [
    {
     "name": "stdout",
     "output_type": "stream",
     "text": [
      "tensor(0.7936)\n"
     ]
    }
   ],
   "source": [
    "y_pred = net(x_val)\n",
    "y_pred = (y_pred>=0.5).int()\n",
    "print((y_pred[:,0]==y_val).float().mean())"
   ]
  },
  {
   "cell_type": "code",
   "execution_count": null,
   "metadata": {},
   "outputs": [],
   "source": []
  }
 ],
 "metadata": {
  "kernelspec": {
   "display_name": "Python 3",
   "language": "python",
   "name": "python3"
  },
  "language_info": {
   "codemirror_mode": {
    "name": "ipython",
    "version": 3
   },
   "file_extension": ".py",
   "mimetype": "text/x-python",
   "name": "python",
   "nbconvert_exporter": "python",
   "pygments_lexer": "ipython3",
   "version": "3.7.6"
  }
 },
 "nbformat": 4,
 "nbformat_minor": 4
}
