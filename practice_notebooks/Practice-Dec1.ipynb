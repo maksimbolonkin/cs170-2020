{
 "cells": [
  {
   "cell_type": "markdown",
   "metadata": {},
   "source": [
    "### Problem 1\n",
    "Use MCMC with Gaussian proposal distribution to generate 10000 samples from the distribution:\n",
    "$$p(x) = \\alpha_1N(\\mu_1, \\sigma_1) + \\alpha_2N(\\mu_2, \\sigma_2) + \\alpha_2N(\\mu_2, \\sigma_2)$$\n",
    "for selected $\\alpha_i, \\mu_i, \\sigma_i$.\n",
    "\n",
    "Compare to the regular sampling from the Gaussian Mixture Model."
   ]
  },
  {
   "cell_type": "code",
   "execution_count": 16,
   "metadata": {},
   "outputs": [],
   "source": [
    "import numpy as np\n",
    "import matplotlib.pyplot as plt\n",
    "#matplotlib inline\n",
    "import scipy.stats as stats"
   ]
  },
  {
   "cell_type": "code",
   "execution_count": 7,
   "metadata": {},
   "outputs": [],
   "source": [
    "alpha = np.array([2, 5, 3])/10\n",
    "mu = np.array([-3, 5, 8])\n",
    "sigma = np.array([3, 1, 1.5])"
   ]
  },
  {
   "cell_type": "code",
   "execution_count": 8,
   "metadata": {},
   "outputs": [],
   "source": [
    "def gen_GMM():\n",
    "    t = np.random.random()\n",
    "    \n",
    "    if t<alpha[0]:\n",
    "        idx = 0\n",
    "    elif t<alpha[0]+alpha[1]:\n",
    "        idx = 1\n",
    "    else:\n",
    "        idx = 2\n",
    "    return np.random.normal(loc=mu[idx], scale=sigma[idx])"
   ]
  },
  {
   "cell_type": "code",
   "execution_count": 9,
   "metadata": {},
   "outputs": [],
   "source": [
    "x = np.zeros(10000)\n",
    "for i in range(10000):\n",
    "    x[i] = gen_GMM()"
   ]
  },
  {
   "cell_type": "code",
   "execution_count": 11,
   "metadata": {},
   "outputs": [
    {
     "data": {
      "image/png": "[encoded data removed]",
      "text/plain": [
       "<Figure size 432x288 with 1 Axes>"
      ]
     },
     "metadata": {
      "needs_background": "light"
     },
     "output_type": "display_data"
    }
   ],
   "source": [
    "plt.hist(x, bins=100, density=True)\n",
    "plt.show()"
   ]
  },
  {
   "cell_type": "code",
   "execution_count": 19,
   "metadata": {},
   "outputs": [],
   "source": [
    "def pGMM(x):\n",
    "    p = 0\n",
    "    for i in range(3):\n",
    "        p += alpha[i]*stats.norm.pdf(x, loc=mu[i], scale=sigma[i])\n",
    "    return p"
   ]
  },
  {
   "cell_type": "code",
   "execution_count": 22,
   "metadata": {},
   "outputs": [],
   "source": [
    "s_proposal=2\n",
    "x = np.zeros(10000)\n",
    "x[0] = np.random.random()\n",
    "for i in range(1, 10000):\n",
    "    x_new = x[i-1]+np.random.normal(loc=0, scale=s_proposal)\n",
    "    A = pGMM(x_new)/pGMM(x[i-1])\n",
    "    if np.random.random()<A:\n",
    "        x[i] = x_new\n",
    "    else:\n",
    "        x[i] = x[i-1]"
   ]
  },
  {
   "cell_type": "code",
   "execution_count": 23,
   "metadata": {},
   "outputs": [
    {
     "data": {
      "image/png": "[encoded data removed]",
      "text/plain": [
       "<Figure size 432x288 with 1 Axes>"
      ]
     },
     "metadata": {
      "needs_background": "light"
     },
     "output_type": "display_data"
    }
   ],
   "source": [
    "plt.hist(x, bins=100, density=True)\n",
    "plt.show()"
   ]
  },
  {
   "cell_type": "markdown",
   "metadata": {},
   "source": [
    "### Problem 2\n",
    "Use Gibbs Sampling to sample uniformly from a set of binary $5 \\times 5$ non-degenerate matrices.\n",
    "\n",
    "Use `numpy.linalg.det`."
   ]
  },
  {
   "cell_type": "code",
   "execution_count": 24,
   "metadata": {},
   "outputs": [
    {
     "name": "stdout",
     "output_type": "stream",
     "text": [
      "[[1. 0. 0. 0. 0.]\n",
      " [0. 1. 0. 0. 0.]\n",
      " [0. 0. 1. 0. 0.]\n",
      " [0. 0. 0. 1. 0.]\n",
      " [0. 0. 0. 0. 1.]]\n"
     ]
    }
   ],
   "source": [
    "A = np.eye(5)\n",
    "print(A)"
   ]
  },
  {
   "cell_type": "code",
   "execution_count": 27,
   "metadata": {},
   "outputs": [
    {
     "name": "stdout",
     "output_type": "stream",
     "text": [
      "[[1. 0. 0. 0. 1.]\n",
      " [0. 1. 0. 0. 0.]\n",
      " [0. 0. 1. 0. 0.]\n",
      " [0. 0. 0. 1. 0.]\n",
      " [0. 0. 0. 0. 1.]]\n",
      "[[1. 1. 0. 1. 1.]\n",
      " [0. 1. 0. 1. 0.]\n",
      " [1. 1. 1. 1. 0.]\n",
      " [0. 0. 0. 1. 0.]\n",
      " [0. 0. 0. 0. 1.]]\n",
      "[[1. 0. 0. 1. 1.]\n",
      " [1. 1. 0. 1. 0.]\n",
      " [1. 1. 1. 0. 0.]\n",
      " [0. 0. 0. 1. 0.]\n",
      " [0. 0. 0. 0. 1.]]\n",
      "[[1. 0. 1. 1. 1.]\n",
      " [1. 1. 0. 1. 0.]\n",
      " [0. 0. 1. 0. 0.]\n",
      " [0. 0. 1. 1. 0.]\n",
      " [0. 0. 1. 0. 1.]]\n",
      "[[1. 0. 0. 0. 1.]\n",
      " [1. 1. 0. 1. 1.]\n",
      " [0. 0. 1. 0. 0.]\n",
      " [0. 0. 1. 1. 1.]\n",
      " [0. 0. 1. 0. 1.]]\n",
      "[[1. 0. 0. 0. 0.]\n",
      " [1. 1. 0. 1. 0.]\n",
      " [0. 1. 1. 1. 0.]\n",
      " [0. 0. 0. 1. 1.]\n",
      " [0. 0. 1. 0. 1.]]\n",
      "[[1. 0. 0. 0. 0.]\n",
      " [1. 1. 0. 1. 0.]\n",
      " [0. 1. 1. 1. 0.]\n",
      " [1. 0. 0. 0. 1.]\n",
      " [0. 1. 0. 0. 1.]]\n",
      "[[1. 0. 0. 0. 1.]\n",
      " [1. 1. 0. 1. 0.]\n",
      " [0. 1. 1. 0. 0.]\n",
      " [1. 0. 1. 1. 1.]\n",
      " [1. 1. 0. 0. 1.]]\n",
      "[[1. 0. 1. 0. 0.]\n",
      " [1. 0. 0. 1. 0.]\n",
      " [1. 1. 0. 0. 0.]\n",
      " [1. 0. 1. 1. 1.]\n",
      " [1. 1. 0. 0. 1.]]\n",
      "[[1. 0. 1. 0. 0.]\n",
      " [1. 1. 0. 1. 1.]\n",
      " [1. 1. 0. 0. 0.]\n",
      " [1. 1. 1. 1. 1.]\n",
      " [1. 1. 1. 0. 1.]]\n"
     ]
    }
   ],
   "source": [
    "A = A.reshape(25,-1)\n",
    "for j in range(100):\n",
    "    idx = np.random.randint(0, 25)\n",
    "    B = A.copy()\n",
    "    B[idx] = 1-B[idx]\n",
    "    if np.linalg.det(B.reshape(5,5))!=0:\n",
    "        A = B.copy()\n",
    "    if j%10 == 0:\n",
    "        print(A.reshape(5,5))"
   ]
  },
  {
   "cell_type": "markdown",
   "metadata": {},
   "source": [
    "### Problem 3\n",
    "\n",
    "Select parameters for two non-collinear lines\n",
    "$$y = a^{(i)}x + b^{(i)}$$\n",
    "Generate 25 points on each line in the range $x \\in [-10; 10]$, add random gaussian noise with zero mean and std $\\sigma = 0.5$ to 50% of all the points. Add 10 random points not from the lines. Plot to verify that task looks reasonable. Combine all generated points into one array and treat it as an input data.\n",
    "\n",
    "Use RANSAC to find best fit:\n",
    "1. Select 2 pairs of random points\n",
    "2. \"Draw\" two lines through these two pairs (find parameters)\n",
    "3. Calculate avg MSE by assigning each point to the closest (vertical distance) line\n",
    "4. Repeat N (sufficiently large) times and keep the best fit\n",
    "\n",
    "Plot final solution and original lines for comparison."
   ]
  },
  {
   "cell_type": "code",
   "execution_count": 28,
   "metadata": {},
   "outputs": [],
   "source": [
    "a = np.array([1, -1])\n",
    "b = np.array([0, 0])"
   ]
  },
  {
   "cell_type": "code",
   "execution_count": 31,
   "metadata": {},
   "outputs": [],
   "source": [
    "p = np.zeros((60, 2))\n",
    "p[:25,0] = 20*np.random.random(size=25)-10\n",
    "p[:25,1] = a[0]*p[:25,0]+b[0]+np.random.normal(scale=0.5, size=25)\n",
    "p[25:50,0] = 20*np.random.random(size=25)-10\n",
    "p[25:50,1] = a[1]*p[25:50,0]+b[1]+ np.random.normal(scale=0.5, size=25)\n",
    "p[50:,:] = 20*np.random.random(size=(10,2))-10"
   ]
  },
  {
   "cell_type": "code",
   "execution_count": 32,
   "metadata": {},
   "outputs": [
    {
     "data": {
      "text/plain": [
       "[]"
      ]
     },
     "execution_count": 32,
     "metadata": {},
     "output_type": "execute_result"
    },
    {
     "data": {
      "image/png": "[encoded data removed]",
      "text/plain": [
       "<Figure size 432x288 with 1 Axes>"
      ]
     },
     "metadata": {
      "needs_background": "light"
     },
     "output_type": "display_data"
    }
   ],
   "source": [
    "x_base = np.linspace(-10,10,100)\n",
    "plt.plot(p[:50,0], p[:50,1], 'bo')\n",
    "plt.plot(x_base, a[0]*x_base+b[0], 'k-', x_base, a[1]*x_base+b[1], 'k-')\n",
    "plt.plot(p[50:,0], p[50:,1], 'ro')\n",
    "plt.plot()"
   ]
  },
  {
   "cell_type": "code",
   "execution_count": null,
   "metadata": {},
   "outputs": [],
   "source": [
    "N = 10\n",
    "for i in range(N):\n",
    "    "
   ]
  },
  {
   "cell_type": "code",
   "execution_count": null,
   "metadata": {},
   "outputs": [],
   "source": []
  }
 ],
 "metadata": {
  "kernelspec": {
   "display_name": "Python 3",
   "language": "python",
   "name": "python3"
  },
  "language_info": {
   "codemirror_mode": {
    "name": "ipython",
    "version": 3
   },
   "file_extension": ".py",
   "mimetype": "text/x-python",
   "name": "python",
   "nbconvert_exporter": "python",
   "pygments_lexer": "ipython3",
   "version": "3.7.6"
  }
 },
 "nbformat": 4,
 "nbformat_minor": 4
}
