{
 "cells": [
  {
   "cell_type": "markdown",
   "metadata": {},
   "source": [
    "### Problem 1\n",
    "Load Boston housing dataset and perform linear regression on it using Linear Least Squares method. Check the performance (MSE) on a selected testing subset.\n",
    "\n",
    "Don't forget than if our model is $y = a_1\\theta_1 + \\ldots a_n\\theta_n + b$ we need to expand data matrix with additional column of ones to match $n+1$ parameters (including $b$).\n",
    "\n",
    "Useful function `scipy.linalg.pinv`"
   ]
  },
  {
   "cell_type": "code",
   "execution_count": 12,
   "metadata": {},
   "outputs": [],
   "source": [
    "%matplotlib inline\n",
    "from sklearn.datasets import load_boston\n",
    "import numpy as np\n",
    "import matplotlib.pyplot as plt\n",
    "\n",
    "import scipy"
   ]
  },
  {
   "cell_type": "code",
   "execution_count": 4,
   "metadata": {},
   "outputs": [],
   "source": [
    "D = load_boston()"
   ]
  },
  {
   "cell_type": "code",
   "execution_count": 8,
   "metadata": {},
   "outputs": [],
   "source": [
    "A = D['data']\n",
    "y = D['target']"
   ]
  },
  {
   "cell_type": "code",
   "execution_count": 11,
   "metadata": {},
   "outputs": [
    {
     "name": "stdout",
     "output_type": "stream",
     "text": [
      "(506, 13)\n",
      "(506, 14)\n"
     ]
    }
   ],
   "source": [
    "# тестовая выборка 450:506\n",
    "# обучающая выборка 0:450\n",
    "\n",
    "print(A.shape)\n",
    "A = np.hstack((A, np.ones((A.shape[0],1))))\n",
    "print(A.shape)"
   ]
  },
  {
   "cell_type": "code",
   "execution_count": 13,
   "metadata": {},
   "outputs": [],
   "source": [
    "B = A[:450,:].T @ A[:450,:]\n",
    "z = A[:450,:].T @ y[:450]\n",
    "\n",
    "theta = scipy.linalg.pinv(B) @ z\n"
   ]
  },
  {
   "cell_type": "code",
   "execution_count": 14,
   "metadata": {},
   "outputs": [
    {
     "name": "stdout",
     "output_type": "stream",
     "text": [
      "[-1.12706397e-01  4.84679322e-02  3.51619982e-02  2.43036682e+00\n",
      " -1.71555914e+01  3.92937664e+00  1.05952560e-02 -1.40598405e+00\n",
      "  3.72316544e-01 -1.54340774e-02 -9.03360601e-01  9.74047349e-03\n",
      " -5.51630479e-01  3.42612251e+01]\n"
     ]
    }
   ],
   "source": [
    "print(theta)"
   ]
  },
  {
   "cell_type": "code",
   "execution_count": 16,
   "metadata": {},
   "outputs": [
    {
     "name": "stdout",
     "output_type": "stream",
     "text": [
      "25.274338429613728\n"
     ]
    }
   ],
   "source": [
    "prediction = A[450:,:] @ theta\n",
    "\n",
    "MSE = np.sqrt(np.sum((prediction - y[450:])**2))\n",
    "print(MSE)"
   ]
  },
  {
   "cell_type": "code",
   "execution_count": 17,
   "metadata": {},
   "outputs": [
    {
     "name": "stdout",
     "output_type": "stream",
     "text": [
      "5.0 50.0 9.502334954117693\n"
     ]
    }
   ],
   "source": [
    "print(y[:450].min(), y[:450].max(), y[:450].std())"
   ]
  },
  {
   "cell_type": "markdown",
   "metadata": {},
   "source": [
    "### Problem 2\n",
    "Load *digits* dataset, select images corresponding to digits 0 and 1. Set apart random 10% of the data for evaluation. Use Linear Least Squares to train a naive classifier by regressing the pixel values of every digits to it's numerical value:\n",
    "$$y_i = \\sum a_i\\theta_i + b$$\n",
    "where $y_i$ is 0 or 1. Perform classification by thresholding the regressed value. Check the accuracy on the training and testing subsets.\n",
    "\n",
    "**Make sure to fix random seed for reproducibility.**"
   ]
  },
  {
   "cell_type": "code",
   "execution_count": 18,
   "metadata": {},
   "outputs": [],
   "source": [
    "from sklearn.datasets import load_digits"
   ]
  },
  {
   "cell_type": "code",
   "execution_count": 19,
   "metadata": {},
   "outputs": [
    {
     "name": "stdout",
     "output_type": "stream",
     "text": [
      "(1797, 64)\n"
     ]
    }
   ],
   "source": [
    "D = load_digits()\n",
    "A = D['data']\n",
    "B = D['target']\n",
    "print(A.shape)"
   ]
  },
  {
   "cell_type": "code",
   "execution_count": 28,
   "metadata": {},
   "outputs": [
    {
     "data": {
      "text/plain": [
       "<matplotlib.image.AxesImage at 0x7ff166357cd0>"
      ]
     },
     "execution_count": 28,
     "metadata": {},
     "output_type": "execute_result"
    },
    {
     "data": {
      "image/png": "[encoded data removed]",
      "text/plain": [
       "<Figure size 432x288 with 1 Axes>"
      ]
     },
     "metadata": {
      "needs_background": "light"
     },
     "output_type": "display_data"
    }
   ],
   "source": [
    "# отобразим одно из изображений, для этого переделаем из матрицы 1х64 в матрицу 8х8\n",
    "plt.imshow(np.reshape(A[0,:], (8, 8)), cmap='gray')"
   ]
  },
  {
   "cell_type": "code",
   "execution_count": 29,
   "metadata": {},
   "outputs": [
    {
     "name": "stdout",
     "output_type": "stream",
     "text": [
      "(360, 64)\n"
     ]
    }
   ],
   "source": [
    "ids = (B<2)\n",
    "A = A[ids, :]\n",
    "y = B[ids]\n",
    "print(A.shape)"
   ]
  },
  {
   "cell_type": "code",
   "execution_count": 36,
   "metadata": {},
   "outputs": [
    {
     "name": "stdout",
     "output_type": "stream",
     "text": [
      "[  0   1   2   3   4   5   6   7   8  10  11  12  13  14  15  16  17  18\n",
      "  19  20  21  22  23  24  26  27  28  29  30  31  32  33  34  35  36  37\n",
      "  38  40  41  42  43  44  45  46  48  49  50  51  52  53  54  55  56  57\n",
      "  58  59  60  61  62  63  64  65  66  67  68  69  71  73  74  75  76  77\n",
      "  78  79  80  81  82  83  84  85  86  89  90  91  92  93  94  95  96  97\n",
      "  98 100 101 102 103 104 105 106 107 108 109 110 111 112 113 114 116 118\n",
      " 119 120 121 122 123 124 125 126 127 128 129 130 131 132 133 134 135 136\n",
      " 137 138 139 140 141 142 143 144 145 146 147 148 149 150 151 152 153 154\n",
      " 155 156 157 158 159 160 161 162 163 164 166 167 168 169 170 171 173 175\n",
      " 176 178 179 180 181 182 183 184 185 186 187 188 189 190 191 194 196 198\n",
      " 199 200 201 202 203 204 205 206 207 208 209 210 212 213 214 215 216 217\n",
      " 218 219 220 221 222 223 224 225 226 227 228 229 230 231 232 233 234 235\n",
      " 236 237 238 239 240 241 244 245 246 247 248 249 250 252 253 254 255 256\n",
      " 257 258 259 260 261 262 263 264 266 267 268 269 270 271 272 273 274 275\n",
      " 276 278 279 280 281 282 283 284 285 286 287 288 289 290 291 293 294 295\n",
      " 296 297 298 299 300 301 302 303 304 305 306 307 308 309 310 311 312 313\n",
      " 315 316 317 318 319 320 321 322 324 325 326 327 328 329 330 331 332 334\n",
      " 336 339 340 341 342 343 344 345 346 347 348 349 350 351 352 353 354 355\n",
      " 356 357 358]\n",
      "[172  47 117 192 323 251 195 359   9 211 277 242 292  87  70  88 314 193\n",
      "  39  87 174  88 337 165  25 333  72 265 115 243 197 335 338  99 177 243]\n"
     ]
    }
   ],
   "source": [
    "np.random.seed(0)\n",
    "\n",
    "test_set = np.random.choice(np.arange(A.shape[0]), int(A.shape[0]*0.1))\n",
    "train_set = np.setdiff1d(np.arange(A.shape[0]), test_set)\n",
    "print(train_set)\n",
    "print(test_set)"
   ]
  },
  {
   "cell_type": "code",
   "execution_count": 37,
   "metadata": {},
   "outputs": [],
   "source": [
    "def LeastSquares(A, y):\n",
    "    B = A.T @ A\n",
    "    z = A.T @ y\n",
    "    \n",
    "    theta = scipy.linalg.pinv(B) @ z\n",
    "    return theta"
   ]
  },
  {
   "cell_type": "code",
   "execution_count": 38,
   "metadata": {},
   "outputs": [
    {
     "name": "stdout",
     "output_type": "stream",
     "text": [
      "[ 0.00000000e+00 -1.44461333e-02 -2.57747880e-03  2.42502133e-03\n",
      " -5.27458470e-03  1.19208837e-02  2.20187472e-02 -1.49231881e-13\n",
      " -3.03635731e-14 -5.41285184e-03  7.14465760e-04 -1.41704923e-03\n",
      "  3.36976022e-04 -4.29522595e-03 -1.72532281e-02 -6.38425292e-15\n",
      "  1.55676358e-01  1.11774538e-02 -3.03824575e-03  7.12456401e-03\n",
      "  3.39012757e-03 -1.67936653e-03  9.37398507e-03  2.23831252e-15\n",
      "  7.78381788e-02 -6.79676111e-03  2.54759793e-03 -2.47100212e-03\n",
      "  3.17892743e-02  2.06519055e-03 -7.87056364e-04  2.59939504e-15\n",
      "  1.93464697e-15 -8.34213790e-04 -9.74887519e-04  8.62172280e-03\n",
      " -1.73383517e-03 -4.28732180e-03 -4.79046257e-03 -9.39466265e-16\n",
      " -2.89929213e-16 -5.13485529e-03 -8.83037163e-03  6.16566923e-03\n",
      "  1.53242129e-03 -4.91739633e-03 -4.92289927e-03 -1.61011805e-16\n",
      "  8.61473165e-16  1.01159453e-03  1.19132714e-03 -1.19564085e-03\n",
      " -2.96104087e-03 -1.11906719e-03 -3.73821595e-03  9.12938907e-03\n",
      "  0.00000000e+00 -6.94156337e-02  1.32033400e-02 -1.40486004e-02\n",
      "  8.53263766e-04  2.44068306e-03  8.96730640e-03  2.94444086e-03\n",
      "  4.73638267e-01]\n"
     ]
    }
   ],
   "source": [
    "A = np.hstack((A, np.ones((A.shape[0], 1))))\n",
    "theta = LeastSquares(A[train_set,:], y[train_set])\n",
    "print(theta)"
   ]
  },
  {
   "cell_type": "code",
   "execution_count": 39,
   "metadata": {},
   "outputs": [
    {
     "name": "stdout",
     "output_type": "stream",
     "text": [
      "[ 0.02590327  1.15717233  0.9051722   0.90313389  0.97170963  0.950505\n",
      "  0.10026171  0.07435444  0.97247016 -0.03127274  0.99842277  0.02031194\n",
      "  0.64762126  0.96767377  1.08965184 -0.03043513  0.87539289  1.10296837\n",
      "  1.11472402  0.96767377  0.93306305 -0.03043513  0.92817756  1.07638169\n",
      "  0.04407577 -0.01694469  0.93527428  0.9024468  -0.06055233 -0.07476847\n",
      "  1.04695363  1.00701375  0.02366645  1.11921639  1.05306896 -0.07476847]\n"
     ]
    }
   ],
   "source": [
    "predictions = A[test_set,:] @ theta\n",
    "print(predictions)"
   ]
  },
  {
   "cell_type": "code",
   "execution_count": 41,
   "metadata": {},
   "outputs": [
    {
     "name": "stdout",
     "output_type": "stream",
     "text": [
      "[1.]\n"
     ]
    }
   ],
   "source": [
    "digits = np.zeros(predictions.shape)\n",
    "digits[predictions > 0.5] = 1\n",
    "\n",
    "correct = np.sum(digits == y[test_set])/digits.shape\n",
    "print(correct)"
   ]
  },
  {
   "cell_type": "markdown",
   "metadata": {},
   "source": [
    "### Problem 3\n",
    "Generate arbitrary nonlinear function on a sample of 10 points from $(0; 10]$, add some Gaussian or discrete noise to the values. Solve Least-Squares problem to fit the data points with polynomial models of various degree. Report RMSE on the obtained models. Plot points vs. model vs. true function. Useful functions: `np.vander`, `np.linspace`, `np.vectorize`"
   ]
  },
  {
   "cell_type": "code",
   "execution_count": 81,
   "metadata": {},
   "outputs": [],
   "source": [
    "def f(x):\n",
    "    return 0.1 * np.sin(x) * np.log(x)"
   ]
  },
  {
   "cell_type": "code",
   "execution_count": 85,
   "metadata": {},
   "outputs": [
    {
     "name": "stdout",
     "output_type": "stream",
     "text": [
      "[8.65102561 5.08968961 9.16722954 9.2115761  0.83112493 2.77718561\n",
      " 0.09356705 8.4234208  6.4717414  8.41386119]\n"
     ]
    }
   ],
   "source": [
    "X = np.random.uniform(low=0, high=10, size=10)\n",
    "print(X)"
   ]
  },
  {
   "cell_type": "code",
   "execution_count": 86,
   "metadata": {},
   "outputs": [
    {
     "name": "stderr",
     "output_type": "stream",
     "text": [
      "/Users/mbolonkin/opt/anaconda3/lib/python3.7/site-packages/ipykernel_launcher.py:2: RuntimeWarning: divide by zero encountered in log\n",
      "  \n",
      "/Users/mbolonkin/opt/anaconda3/lib/python3.7/site-packages/ipykernel_launcher.py:2: RuntimeWarning: invalid value encountered in multiply\n",
      "  \n"
     ]
    },
    {
     "data": {
      "image/png": "[encoded data removed]",
      "text/plain": [
       "<Figure size 432x288 with 1 Axes>"
      ]
     },
     "metadata": {
      "needs_background": "light"
     },
     "output_type": "display_data"
    }
   ],
   "source": [
    "Y = f(X) + np.random.normal(0, 0.1)\n",
    "\n",
    "x_base = np.linspace(0, 10, 100)\n",
    "y_base = f(x_base)\n",
    "\n",
    "plt.plot(X, Y, 'bo', x_base, y_base, 'r--')\n",
    "plt.show()"
   ]
  },
  {
   "cell_type": "code",
   "execution_count": 95,
   "metadata": {},
   "outputs": [
    {
     "name": "stdout",
     "output_type": "stream",
     "text": [
      "0.25014771739611935\n",
      "0.2332127670673883\n",
      "0.23023252269340164\n",
      "0.11747259185743758\n",
      "0.08004325812148674\n",
      "0.0012313576385720591\n",
      "0.01219158599531288\n",
      "0.12072587529439145\n",
      "0.12149612206822394\n",
      "0.132236347765968\n",
      "0.15497779470094852\n",
      "0.18292795268148504\n",
      "0.20621820196599477\n"
     ]
    }
   ],
   "source": [
    "for n in range(2,15):\n",
    "    A = np.vander(X, n)\n",
    "    theta = LeastSquares(A, Y)\n",
    "    y_found = np.vander(x_base, n) @ theta\n",
    "    #plt.plot(X, Y, 'bo', x_base, y_base, 'r--', x_base, y_found, 'b-')\n",
    "    #plt.show()\n",
    "    print(np.sqrt(np.sum((Y - A @ theta)**2)))"
   ]
  },
  {
   "cell_type": "code",
   "execution_count": 75,
   "metadata": {},
   "outputs": [],
   "source": [
    "theta = LeastSquares(A, Y)"
   ]
  },
  {
   "cell_type": "code",
   "execution_count": 79,
   "metadata": {},
   "outputs": [
    {
     "data": {
      "image/png": "[encoded data removed]",
      "text/plain": [
       "<Figure size 432x288 with 1 Axes>"
      ]
     },
     "metadata": {
      "needs_background": "light"
     },
     "output_type": "display_data"
    }
   ],
   "source": [
    "y_found = np.vander(x_base, 3) @ theta\n",
    "plt.plot(X, Y, 'bo', x_base, y_base, 'r--', x_base, y_found, 'b-')\n",
    "plt.show()"
   ]
  },
  {
   "cell_type": "markdown",
   "metadata": {},
   "source": [
    "### Problem 4\n",
    "\n",
    "Попробуйте решить Задачу 1 (Boston housing dataset), моделируя данные многочленом второй степени:\n",
    "$$y = \\theta_0 + a_1\\theta_1 + \\ldots+ a_n\\theta_n + a_1^2\\theta_{11} + a_1a_2\\theta_{12}+ \\ldots +a_n^2\\theta_{nn} = a_0 + \\sum_{i=1}^{n}a_i\\theta_i + \\sum_{i=1}^{n}\\sum_{j=1}^{n}a_ia_j\\theta_{ij}$$ "
   ]
  }
 ],
 "metadata": {
  "kernelspec": {
   "display_name": "Python 3",
   "language": "python",
   "name": "python3"
  },
  "language_info": {
   "codemirror_mode": {
    "name": "ipython",
    "version": 3
   },
   "file_extension": ".py",
   "mimetype": "text/x-python",
   "name": "python",
   "nbconvert_exporter": "python",
   "pygments_lexer": "ipython3",
   "version": "3.7.6"
  }
 },
 "nbformat": 4,
 "nbformat_minor": 2
}
