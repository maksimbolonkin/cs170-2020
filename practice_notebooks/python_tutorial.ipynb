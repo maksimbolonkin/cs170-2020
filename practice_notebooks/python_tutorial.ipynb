{
 "cells": [
  {
   "cell_type": "markdown",
   "metadata": {},
   "source": [
    "## Очень короткий туториал по Python и релевантным библиотекам\n",
    "1. Конструкции управления в языке\n",
    "2. Структуры данных\n",
    "3. Введение в Numpy\n",
    "4. Графики\n",
    "5. Файловый ввод-вывод"
   ]
  },
  {
   "cell_type": "code",
   "execution_count": 3,
   "metadata": {},
   "outputs": [
    {
     "name": "stdout",
     "output_type": "stream",
     "text": [
      "1 2 string\n",
      "2^2 = 4\n",
      "variable a value is 1, variable c value is string\n",
      "variable a value is 1, variable c value is string\n"
     ]
    }
   ],
   "source": [
    "# определение переменных и оператор присваиваия\n",
    "# в Python нет типов\n",
    "a = 1\n",
    "b, c = 2, \"string\"\n",
    "\n",
    "print(a, b, c)\n",
    "print('%d^2 = %d'%(b, b*b))\n",
    "print('variable a value is {}, variable c value is {}'.format(a, c))\n",
    "print(f'variable a value is {a}, variable c value is {c}')"
   ]
  },
  {
   "cell_type": "markdown",
   "metadata": {},
   "source": [
    "### Конструкции управления (Control flow tools)"
   ]
  },
  {
   "cell_type": "code",
   "execution_count": 4,
   "metadata": {},
   "outputs": [
    {
     "name": "stdout",
     "output_type": "stream",
     "text": [
      "2^0 = 1, 3^0 = 1\n",
      "2^1 = 2\n",
      "2^2 = 4, 3^2 = 9\n",
      "2^3 = 8, 3^3 = 27\n",
      "2^4 = 16, 3^4 = 81\n",
      "2^5 = 32\n",
      "2^6 = 64, 3^6 = 729\n",
      "2^7 = 128\n",
      "2^8 = 256, 3^8 = 6561\n",
      "2^9 = 512, 3^9 = 19683\n"
     ]
    }
   ],
   "source": [
    "# циклы и условные конструкции\n",
    "for i in range(10):\n",
    "    s = '2^{} = {}'.format(i, 2**i)\n",
    "    if i%2 == 0 or i%3 == 0:\n",
    "        s += ', 3^{} = {}'.format(i, 3**i)\n",
    "    print(s)"
   ]
  },
  {
   "cell_type": "markdown",
   "metadata": {},
   "source": [
    "### Структуры данных (Data structures)"
   ]
  },
  {
   "cell_type": "code",
   "execution_count": 6,
   "metadata": {},
   "outputs": [
    {
     "name": "stdout",
     "output_type": "stream",
     "text": [
      "[] 0\n",
      "[0, 1] 2\n",
      "[0, 1, 1] 3\n",
      "[0, 1, 1, 2] 4\n",
      "[0, 1, 1, 2, 3] 5\n",
      "[0, 1, 1, 2, 3, 5] 6\n",
      "[0, 1, 1, 2, 3, 5, 8] 7\n",
      "[0, 1, 1, 2, 3, 5, 8, 13] 8\n",
      "[0, 1, 1, 2, 3, 5, 8, 13, 21] 9\n",
      "[0, 1, 1, 2, 3, 5, 8, 13, 21, 34] 10\n",
      "[0, 1, 1, 2, 3, 5, 8, 13, 21, 34, 55] 11\n",
      "[0, 1, 1, 2, 3, 5, 8, 13, 21, 34, 55, 89] 12\n"
     ]
    }
   ],
   "source": [
    "# lists\n",
    "x = []\n",
    "print(x, len(x))\n",
    "x = x + [0, 1]\n",
    "print(x, len(x))\n",
    "for i in range(10):\n",
    "    x.append(x[-1]+x[-2])\n",
    "    print(x, len(x))\n",
    "# pop to return rightmost element and remove it\n",
    "# popleft to do the same to leftmost element"
   ]
  },
  {
   "cell_type": "code",
   "execution_count": 7,
   "metadata": {},
   "outputs": [
    {
     "name": "stdout",
     "output_type": "stream",
     "text": [
      "[1, 2, 3, 1, 2, 3, 1, 2, 3, 1, 2, 3, 1, 2, 3]\n",
      "[1, 2, 3, 4, 5, 6, 1, 2, 3, 1, 2, 3, 1, 2, 3]\n",
      "[4, 5, 6, 1, 2, 3, 1, 2, 3, 1, 2, 3]\n"
     ]
    }
   ],
   "source": [
    "# lists\n",
    "y = [1,2, 3] * 5\n",
    "print(y)\n",
    "y[3:6] = [4,5,6]\n",
    "print(y)\n",
    "del y[:3]\n",
    "print(y)"
   ]
  },
  {
   "cell_type": "code",
   "execution_count": 8,
   "metadata": {},
   "outputs": [
    {
     "name": "stdout",
     "output_type": "stream",
     "text": [
      "string\n"
     ]
    }
   ],
   "source": [
    "# tuples are immutable\n",
    "a = (1, 2.5, 'string', [0, 0, 0])\n",
    "print(a[2])"
   ]
  },
  {
   "cell_type": "code",
   "execution_count": 9,
   "metadata": {},
   "outputs": [
    {
     "name": "stdout",
     "output_type": "stream",
     "text": [
      "True False\n"
     ]
    }
   ],
   "source": [
    "# sets\n",
    "s1 = {'a', 'b', 'c', 'd', 'e'}\n",
    "s2 = {'c', 'd', 'e', 'f', 'g'}\n",
    "print('a' in s1, 'a' in s2)\n",
    "n = set()"
   ]
  },
  {
   "cell_type": "code",
   "execution_count": 10,
   "metadata": {},
   "outputs": [
    {
     "name": "stdout",
     "output_type": "stream",
     "text": [
      "{'a', 'c', 'x', 'e', 'd', 'b'}\n",
      "{'a', 'b', 'x'}\n",
      "{'g', 'a', 'c', 'x', 'e', 'f', 'd', 'b'}\n",
      "{'d', 'c', 'e'}\n"
     ]
    }
   ],
   "source": [
    "s1.add('x')\n",
    "s1.add('a')\n",
    "print(s1)\n",
    "\n",
    "print(s1-s2)\n",
    "print(s1 | s2)\n",
    "print(s1 & s2)"
   ]
  },
  {
   "cell_type": "code",
   "execution_count": 11,
   "metadata": {},
   "outputs": [
    {
     "name": "stdout",
     "output_type": "stream",
     "text": [
      "True False\n"
     ]
    }
   ],
   "source": [
    "# dictionaries\n",
    "d = {}\n",
    "d[1] = 100\n",
    "d['2'] = 'some_string'\n",
    "d[3.5] = [0, -1, -2]\n",
    "\n",
    "# in operator checks for keys\n",
    "print(1 in d, 100 in d)"
   ]
  },
  {
   "cell_type": "code",
   "execution_count": 12,
   "metadata": {},
   "outputs": [
    {
     "name": "stdout",
     "output_type": "stream",
     "text": [
      "100\n",
      "some_string\n",
      "[0, -1, -2]\n"
     ]
    }
   ],
   "source": [
    "# for can run through keys\n",
    "for k in d:\n",
    "    print(d[k])"
   ]
  },
  {
   "cell_type": "code",
   "execution_count": 15,
   "metadata": {},
   "outputs": [
    {
     "name": "stdout",
     "output_type": "stream",
     "text": [
      "0 1\n",
      "1 2\n",
      "2 3.5\n"
     ]
    }
   ],
   "source": [
    "# to run through key,value pairs need to make the dictionary iterable\n",
    "for (k, v) in enumerate(d):\n",
    "    print(k, v)"
   ]
  },
  {
   "cell_type": "markdown",
   "metadata": {},
   "source": [
    "### Введение в Nympy (Numpy intro)"
   ]
  },
  {
   "cell_type": "code",
   "execution_count": null,
   "metadata": {},
   "outputs": [],
   "source": [
    "# importing the library, giving alias for convenience\n",
    "import numpy as np"
   ]
  },
  {
   "cell_type": "code",
   "execution_count": null,
   "metadata": {
    "scrolled": true
   },
   "outputs": [],
   "source": [
    "# creading ndarrays from lists\n",
    "a = np.array([1,2,3])\n",
    "print (a)\n",
    "b = np.array([[1,2,3], [4, 5, 6]])\n",
    "print(b)\n",
    "print(b.shape)\n",
    "print(b.ndim)\n",
    "print(b.size)"
   ]
  },
  {
   "cell_type": "code",
   "execution_count": null,
   "metadata": {},
   "outputs": [],
   "source": [
    "# creating ndarray with known data\n",
    "# consecutive list of numbers\n",
    "a = np.arange(2, 20, 2)\n",
    "print(a)\n",
    "a = a.reshape(3,3)\n",
    "print(a)"
   ]
  },
  {
   "cell_type": "code",
   "execution_count": null,
   "metadata": {},
   "outputs": [],
   "source": [
    "# creating ndarray with knownd data\n",
    "# fixed value arrays\n",
    "b = np.zeros((2,4))\n",
    "print(b)\n",
    "c = np.ones((3,2))\n",
    "print(c)\n",
    "d = np.eye(4, 5)\n",
    "print(d)\n",
    "f = np.linspace(0, 1, 10)\n",
    "print(f)"
   ]
  },
  {
   "cell_type": "code",
   "execution_count": null,
   "metadata": {},
   "outputs": [],
   "source": [
    "# mathematical operations\n",
    "A = np.array( [[1,1],\n",
    "            [0,1]] )\n",
    "B = np.array( [[2,0],\n",
    "            [3,4]] )\n",
    "# elementwise product\n",
    "print(A * B)\n",
    "# matrix product\n",
    "print(A @ B)                       \n",
    "# alternative is A.dot(B)     "
   ]
  },
  {
   "cell_type": "code",
   "execution_count": null,
   "metadata": {},
   "outputs": [],
   "source": [
    "a = np.random.random((2,3))\n",
    "print(a)\n",
    "print(a.sum(), a.mean())\n",
    "print(a.min(), a.max())\n",
    "# can specify axis of the aggregation\n",
    "print(a.min(axis=1))"
   ]
  },
  {
   "cell_type": "code",
   "execution_count": null,
   "metadata": {},
   "outputs": [],
   "source": [
    "print(a.ravel())\n",
    "print(a.T)"
   ]
  },
  {
   "cell_type": "code",
   "execution_count": null,
   "metadata": {},
   "outputs": [],
   "source": [
    "help(np.random.randint)"
   ]
  },
  {
   "cell_type": "markdown",
   "metadata": {},
   "source": [
    "### Графики (Plotting)"
   ]
  },
  {
   "cell_type": "code",
   "execution_count": null,
   "metadata": {},
   "outputs": [],
   "source": [
    "#matplotlib inline\n",
    "import matplotlib.pyplot as plt"
   ]
  },
  {
   "cell_type": "code",
   "execution_count": null,
   "metadata": {},
   "outputs": [],
   "source": [
    "plt.plot([1, 2, 3, 4], [1, 4, 9, 16])\n",
    "plt.show()"
   ]
  },
  {
   "cell_type": "code",
   "execution_count": null,
   "metadata": {},
   "outputs": [],
   "source": [
    "plt.plot([1, 2, 3, 4], [1, 4, 9, 16], 'g.')\n",
    "plt.axis([0, 6, 0, 20])\n",
    "plt.show()"
   ]
  },
  {
   "cell_type": "code",
   "execution_count": null,
   "metadata": {},
   "outputs": [],
   "source": [
    "def f(t):\n",
    "    return np.exp(-t) * np.cos(2*np.pi*t)\n",
    "\n",
    "t1 = np.arange(0.0, 5.0, 0.1)\n",
    "t2 = np.arange(0.0, 5.0, 0.02)\n",
    "\n",
    "plt.figure()\n",
    "plt.subplot(211)\n",
    "plt.plot(t1, f(t1), 'bo', t2, f(t2), 'k')\n",
    "\n",
    "plt.subplot(212)\n",
    "plt.plot(t2, np.cos(2*np.pi*t2), 'r--')\n",
    "plt.show()"
   ]
  },
  {
   "cell_type": "markdown",
   "metadata": {},
   "source": [
    "### Reading and writing from/to files"
   ]
  },
  {
   "cell_type": "code",
   "execution_count": null,
   "metadata": {},
   "outputs": [],
   "source": [
    "with open('sample_text_file.txt') as fin:\n",
    "    for line in fin:\n",
    "        print(line)"
   ]
  },
  {
   "cell_type": "code",
   "execution_count": null,
   "metadata": {},
   "outputs": [],
   "source": [
    "x = np.random.random((2,3))\n",
    "print(x)\n",
    "np.save('data.npy', x)\n",
    "y = np.load('data.npy')\n",
    "print(y)"
   ]
  },
  {
   "cell_type": "markdown",
   "metadata": {},
   "source": [
    "## Useful links\n",
    "- Markdown cheatsheet [https://www.markdownguide.org/cheat-sheet/](https://www.markdownguide.org/cheat-sheet/)\n",
    "- Python tutorial [https://docs.python.org/3/tutorial/](https://docs.python.org/3/tutorial/)\n",
    "- Numpy tutorial [https://docs.scipy.org/doc/numpy/user/quickstart.html](https://docs.scipy.org/doc/numpy/user/quickstart.html)\n",
    "- Scipy tutorial [https://www.tutorialspoint.com/scipy/index.htm](https://www.tutorialspoint.com/scipy/index.htm)\n",
    "- Matplotlib tutorial [https://matplotlib.org/3.1.1/tutorials/introductory/pyplot.html#sphx-glr-tutorials-introductory-pyplot-py](https://matplotlib.org/3.1.1/tutorials/introductory/pyplot.html#sphx-glr-tutorials-introductory-pyplot-py)"
   ]
  }
 ],
 "metadata": {
  "kernelspec": {
   "display_name": "Python 3",
   "language": "python",
   "name": "python3"
  },
  "language_info": {
   "codemirror_mode": {
    "name": "ipython",
    "version": 3
   },
   "file_extension": ".py",
   "mimetype": "text/x-python",
   "name": "python",
   "nbconvert_exporter": "python",
   "pygments_lexer": "ipython3",
   "version": "3.7.6"
  }
 },
 "nbformat": 4,
 "nbformat_minor": 2
}
